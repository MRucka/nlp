{
 "cells": [
  {
   "cell_type": "code",
   "execution_count": 1,
   "metadata": {},
   "outputs": [],
   "source": [
    "import requests\n",
    "import json\n",
    "from tools import load_ustawy"
   ]
  },
  {
   "cell_type": "markdown",
   "metadata": {},
   "source": [
    "# Zad. 3"
   ]
  },
  {
   "cell_type": "code",
   "execution_count": 97,
   "metadata": {},
   "outputs": [],
   "source": [
    "analyzer = {\n",
    "  \"settings\": {\n",
    "    \"index\": {\n",
    "      \"analysis\": {\n",
    "        \"analyzer\": {\n",
    "          \"synonym_analyzer\": {\n",
    "            \"type\": \"custom\",\n",
    "            \"tokenizer\": \"standard\",\n",
    "            \"filter\": [ \"lowercase\", \"synonym_graph\", \"morfologik_stem\"]\n",
    "          }\n",
    "        },\n",
    "        \"filter\": {\n",
    "          \"synonym_graph\": {\n",
    "            \"type\": \"synonym_graph\",\n",
    "            \"lenient\": 'true',\n",
    "            \"synonyms\": [\"kpk, kodeks postępowania karnego\",\n",
    "                         \"kpc, kodeks postępowania cywilnego\",\n",
    "                         \"kk, kodeks karny\",\n",
    "                         \"kc, kodeks cywilny\"]\n",
    "          }\n",
    "        }\n",
    "      }\n",
    "    }\n",
    "  },\n",
    "  \"mappings\":{\n",
    "       \"properties\":{\n",
    "          \"ustawy_mappings\": {\n",
    "             \"type\":\"text\",\n",
    "             \"analyzer\":\"synonym_analyzer\"\n",
    "         }\n",
    "      }\n",
    "   }\n",
    "}\n"
   ]
  },
  {
   "cell_type": "markdown",
   "metadata": {},
   "source": [
    "# Zad 4."
   ]
  },
  {
   "cell_type": "code",
   "execution_count": 98,
   "metadata": {},
   "outputs": [],
   "source": [
    "index_url = \"http://localhost:9200\"+\"/ustawy\"\n",
    "header = {\"Content-Type\": \"application/json\"}"
   ]
  },
  {
   "cell_type": "code",
   "execution_count": 99,
   "metadata": {},
   "outputs": [],
   "source": [
    "r = requests.put(index_url, headers=header, data = json.dumps(analyzer))"
   ]
  },
  {
   "cell_type": "markdown",
   "metadata": {},
   "source": [
    "# Zad. 5"
   ]
  },
  {
   "cell_type": "code",
   "execution_count": 10,
   "metadata": {},
   "outputs": [],
   "source": [
    "ustawy = load_ustawy()"
   ]
  },
  {
   "cell_type": "code",
   "execution_count": 100,
   "metadata": {},
   "outputs": [],
   "source": [
    "for idx, ustawa in enumerate(ustawy):\n",
    "    r = requests.post(index_url+f'/_doc/{idx}', headers=header, data = json.dumps({\"text\":ustawa, \"ustawy_mappings\":ustawa}))"
   ]
  },
  {
   "cell_type": "code",
   "execution_count": 78,
   "metadata": {},
   "outputs": [
    {
     "data": {
      "text/plain": [
       "{'_index': 'ustawy',\n",
       " '_type': '_doc',\n",
       " '_id': '1177',\n",
       " '_version': 3,\n",
       " 'result': 'updated',\n",
       " '_shards': {'total': 2, 'successful': 1, 'failed': 0},\n",
       " '_seq_no': 3533,\n",
       " '_primary_term': 2}"
      ]
     },
     "execution_count": 78,
     "metadata": {},
     "output_type": "execute_result"
    }
   ],
   "source": [
    "r.json()"
   ]
  },
  {
   "cell_type": "markdown",
   "metadata": {},
   "source": [
    "# Zad.6"
   ]
  },
  {
   "cell_type": "code",
   "execution_count": 101,
   "metadata": {},
   "outputs": [],
   "source": [
    "query = {\n",
    "  \"query\": {\n",
    "    \"match\": {\n",
    "      \"ustawy_mappings\": \"ustawa\"\n",
    "    }\n",
    "  }\n",
    "}"
   ]
  },
  {
   "cell_type": "code",
   "execution_count": 102,
   "metadata": {},
   "outputs": [],
   "source": [
    "r = requests.get(index_url+\"/_count\", headers=header, data = json.dumps(query))"
   ]
  },
  {
   "cell_type": "code",
   "execution_count": 103,
   "metadata": {},
   "outputs": [
    {
     "data": {
      "text/plain": [
       "{'count': 1178,\n",
       " '_shards': {'total': 1, 'successful': 1, 'skipped': 0, 'failed': 0}}"
      ]
     },
     "execution_count": 103,
     "metadata": {},
     "output_type": "execute_result"
    }
   ],
   "source": [
    "r.json()"
   ]
  },
  {
   "cell_type": "markdown",
   "metadata": {},
   "source": [
    "# Zad 7."
   ]
  },
  {
   "cell_type": "code",
   "execution_count": 179,
   "metadata": {},
   "outputs": [],
   "source": [
    "id = [str(idx) for idx, _ in enumerate(ustawy)]"
   ]
  },
  {
   "cell_type": "code",
   "execution_count": 181,
   "metadata": {},
   "outputs": [],
   "source": [
    "query={\n",
    "    \"ids\":id,\n",
    "    \"parameters\": {\n",
    "    \"fields\":[\"text\", \"ustawy_mappings\"],\n",
    "    \"term_statistics\":\"true\",},\n",
    "  }"
   ]
  },
  {
   "cell_type": "code",
   "execution_count": 182,
   "metadata": {},
   "outputs": [],
   "source": [
    "r = requests.post(index_url+\"/_mtermvectors\", headers=header, data = json.dumps(query))"
   ]
  },
  {
   "cell_type": "code",
   "execution_count": 185,
   "metadata": {},
   "outputs": [
    {
     "name": "stdout",
     "output_type": "stream",
     "text": [
      "{'doc_freq': 378, 'ttf': 913, 'term_freq': 3, 'tokens': [{'position': 4604, 'start_offset': 31366, 'end_offset': 31371}, {'position': 5057, 'start_offset': 34581, 'end_offset': 34586}, {'position': 5269, 'start_offset': 36139, 'end_offset': 36144}]}\n"
     ]
    }
   ],
   "source": [
    "for i in r.json()['docs']:\n",
    "    if 'ustawić' in i['term_vectors']['ustawy_mappings']['terms'].keys():\n",
    "        print(i['term_vectors']['ustawy_mappings']['terms']['ustawić'])\n",
    "        break"
   ]
  },
  {
   "cell_type": "code",
   "execution_count": 186,
   "metadata": {},
   "outputs": [],
   "source": [
    "for i in r.json()['docs']:\n",
    "    if 'ustaw' in i['term_vectors']['ustawy_mappings']['terms'].keys():\n",
    "        print(i['term_vectors']['ustawy_mappings']['terms']['ustaw'])\n",
    "        break"
   ]
  },
  {
   "cell_type": "code",
   "execution_count": 130,
   "metadata": {},
   "outputs": [],
   "source": [
    "query={\n",
    "    \"analyzer\":\"synonym_analyzer\",\n",
    "    \"text\":\"ustaw\"\n",
    "}"
   ]
  },
  {
   "cell_type": "code",
   "execution_count": 108,
   "metadata": {},
   "outputs": [],
   "source": [
    "r2 = requests.get(index_url+\"/_analyze\", headers=header, data = json.dumps(query))"
   ]
  },
  {
   "cell_type": "code",
   "execution_count": 109,
   "metadata": {},
   "outputs": [
    {
     "data": {
      "text/plain": [
       "{'tokens': [{'token': 'ustawa',\n",
       "   'start_offset': 0,\n",
       "   'end_offset': 5,\n",
       "   'type': '<ALPHANUM>',\n",
       "   'position': 0},\n",
       "  {'token': 'ustawić',\n",
       "   'start_offset': 0,\n",
       "   'end_offset': 5,\n",
       "   'type': '<ALPHANUM>',\n",
       "   'position': 0}]}"
      ]
     },
     "execution_count": 109,
     "metadata": {},
     "output_type": "execute_result"
    }
   ],
   "source": [
    "r2.json()"
   ]
  },
  {
   "cell_type": "markdown",
   "metadata": {},
   "source": [
    "# Zad.8"
   ]
  },
  {
   "cell_type": "code",
   "execution_count": 140,
   "metadata": {},
   "outputs": [],
   "source": [
    "query = {\n",
    "  \"query\": {\n",
    "    \"match_phrase\": {\n",
    "      \"ustawy_mappings\": \"kodeks postępowania cywilnego\"\n",
    "    }\n",
    "  }\n",
    "}"
   ]
  },
  {
   "cell_type": "code",
   "execution_count": 141,
   "metadata": {},
   "outputs": [],
   "source": [
    "r = requests.get(index_url+\"/_count\", headers=header, data = json.dumps(query))"
   ]
  },
  {
   "cell_type": "code",
   "execution_count": 142,
   "metadata": {},
   "outputs": [
    {
     "data": {
      "text/plain": [
       "{'count': 99,\n",
       " '_shards': {'total': 1, 'successful': 1, 'skipped': 0, 'failed': 0}}"
      ]
     },
     "execution_count": 142,
     "metadata": {},
     "output_type": "execute_result"
    }
   ],
   "source": [
    "r.json()"
   ]
  },
  {
   "cell_type": "markdown",
   "metadata": {},
   "source": [
    "# Zad. 9"
   ]
  },
  {
   "cell_type": "code",
   "execution_count": 206,
   "metadata": {},
   "outputs": [],
   "source": [
    "query = {\n",
    "  \"query\": {\n",
    "    \"match_phrase\": {\n",
    "      \"ustawy_mappings\": {\n",
    "        \"query\":\"wchodzi w życie\",\n",
    "        \"slop\":2\n",
    "      },\n",
    "    }\n",
    "  }\n",
    "}"
   ]
  },
  {
   "cell_type": "code",
   "execution_count": 207,
   "metadata": {},
   "outputs": [],
   "source": [
    "r = requests.get(index_url+\"/_count\", headers=header, data = json.dumps(query))"
   ]
  },
  {
   "cell_type": "code",
   "execution_count": 208,
   "metadata": {},
   "outputs": [
    {
     "data": {
      "text/plain": [
       "{'count': 1174,\n",
       " '_shards': {'total': 1, 'successful': 1, 'skipped': 0, 'failed': 0}}"
      ]
     },
     "execution_count": 208,
     "metadata": {},
     "output_type": "execute_result"
    }
   ],
   "source": [
    "r.json()"
   ]
  },
  {
   "cell_type": "markdown",
   "metadata": {},
   "source": [
    "# Zad. 10"
   ]
  },
  {
   "cell_type": "code",
   "execution_count": 209,
   "metadata": {},
   "outputs": [],
   "source": [
    "query = {\n",
    "    \"size\": 10,\n",
    "    \"query\": {\n",
    "        \"match\": {\n",
    "            \"ustawy_mappings\": \"konstytucja\"\n",
    "        }\n",
    "    }\n",
    "}"
   ]
  },
  {
   "cell_type": "code",
   "execution_count": 210,
   "metadata": {},
   "outputs": [],
   "source": [
    "r = requests.get(index_url+\"/_search\", headers=header, data = json.dumps(query))"
   ]
  },
  {
   "cell_type": "code",
   "execution_count": 213,
   "metadata": {},
   "outputs": [
    {
     "data": {
      "text/plain": [
       "6.867639"
      ]
     },
     "execution_count": 213,
     "metadata": {},
     "output_type": "execute_result"
    }
   ],
   "source": [
    "r.json()['hits']['max_score']"
   ]
  },
  {
   "cell_type": "code",
   "execution_count": 218,
   "metadata": {},
   "outputs": [],
   "source": [
    "ids = []\n",
    "for hit in r.json()['hits']['hits']:\n",
    "    ids.append(hit['_id'])"
   ]
  },
  {
   "cell_type": "code",
   "execution_count": 220,
   "metadata": {},
   "outputs": [],
   "source": [
    "import os"
   ]
  },
  {
   "cell_type": "code",
   "execution_count": 221,
   "metadata": {},
   "outputs": [],
   "source": [
    "ustawy_konstytucja=[]\n",
    "for idx, filename in enumerate(os.listdir(\"ustawy/\")):\n",
    "    if str(idx) in ids:\n",
    "        ustawy_konstytucja.append(filename)"
   ]
  },
  {
   "cell_type": "code",
   "execution_count": 222,
   "metadata": {},
   "outputs": [
    {
     "data": {
      "text/plain": [
       "['2000_443.txt',\n",
       " '1996_350.txt',\n",
       " '2001_23.txt',\n",
       " '1999_688.txt',\n",
       " '2001_1082.txt',\n",
       " '1997_681.txt',\n",
       " '1997_642.txt',\n",
       " '1996_199.txt',\n",
       " '1997_604.txt',\n",
       " '1997_629.txt']"
      ]
     },
     "execution_count": 222,
     "metadata": {},
     "output_type": "execute_result"
    }
   ],
   "source": [
    "ustawy_konstytucja"
   ]
  },
  {
   "cell_type": "markdown",
   "metadata": {},
   "source": [
    "# Zad.11"
   ]
  },
  {
   "cell_type": "code",
   "execution_count": 249,
   "metadata": {},
   "outputs": [],
   "source": [
    "query = {\n",
    "    \"size\":10,\n",
    "    \"query\": {\n",
    "        \"match_phrase\": {\n",
    "            \"ustawy_mappings\":{\n",
    "                \"query\":\"konstytucja\"}\n",
    "        }\n",
    "    },\n",
    "\"highlight\": { \n",
    "   \"fields\": {\"ustawy_mappings\":{\"number_of_fragments\": 3}}\n",
    "}}"
   ]
  },
  {
   "cell_type": "code",
   "execution_count": 250,
   "metadata": {},
   "outputs": [],
   "source": [
    "r = requests.get(index_url+\"/_search\", headers=header, data = json.dumps(query))"
   ]
  },
  {
   "cell_type": "code",
   "execution_count": 252,
   "metadata": {},
   "outputs": [
    {
     "name": "stdout",
     "output_type": "stream",
     "text": [
      "['Inicjatywa ustawodawcza w zakresie przedstawienia Zgromadzeniu Narodowemu projektu nowej <em>Konstytucji</em>', 'Do zgłoszenia projektu <em>Konstytucji</em> załącza się wykaz obywateli popierających zgłoszenie, zawierający', 'Zasady, na których opierać się ma <em>Konstytucja</em> mogą być poddane pod referendum. 2.']\n",
      "['umowy międzynarodowej lub załącznika nie wypełnia przesłanek określonych w art. 89 ust. 1 lub art. 90 <em>Konstytucji</em>', 'okoliczności, a umowa międzynarodowa nie wypełnia przesłanek określonych w art. 89 ust. 1 lub art. 90 <em>Konstytucji</em>', 'Polskiej do ratyfikacji jest dokonywane po uzyskaniu zgody, o której mowa w art. 89 ust. 1 i art. 90 <em>Konstytucji</em>']\n",
      "['W razie powstania wątpliwości co do zgodności z <em>Konstytucją</em> celów lub zasad działania partii politycznej', 'Jeżeli Trybunał Konstytucyjny wyda orzeczenie o sprzeczności celów partii politycznej z <em>Konstytucją</em>,', 'Wnioski o stwierdzenie zgodności z <em>Konstytucją</em> celów partii politycznych, określonych w statucie lub']\n",
      "['Za naruszenie <em>Konstytucji</em> lub ustawy, w związku z zajmowanym stanowiskiem lub w zakresie swojego urzędowania', 'W zakresie określonym w art. 107 <em>Konstytucji</em> odpowiedzialność przed Trybunałem Stanu ponoszą również', 'Prezydent może być pociągnięty do odpowiedzialności przed Trybunałem Stanu za naruszenie <em>Konstytucji</em>,']\n",
      "['Trybunału Konstytucyjnego z wnioskami o: 1) stwierdzenie zgodności ustaw i umów międzynarodowych z <em>Konstytucją</em>', 'w ustawie, 3) stwierdzenie zgodności przepisów prawa wydawanych przez centralne organy państwowe, z <em>Konstytucją</em>', ', ratyfikowanymi umowami międzynarodowymi i ustawami, 4) stwierdzenie zgodności z <em>Konstytucją</em> celów lub']\n",
      "['W Dzienniku Ustaw Rzeczypospolitej Polskiej, zwanym dalej \"Dziennikiem Ustaw\", ogłasza się: 1) <em>Konstytucję</em>', 'również akty prawne dotyczące: 1) stanu wojny i zawarcia pokoju, 2) referendum zatwierdzającego zmianę <em>Konstytucji</em>', 'Rzeczypospolitej Polskiej, wyborów do Sejmu i Senatu oraz ważności referendum zatwierdzającego zmianę <em>Konstytucji</em>']\n",
      "['2c i art. 9-11 ustawy konstytucyjnej z dnia 23 kwietnia 1992 r. o trybie przygotowania i uchwalenia <em>Konstytucji</em>', 'Prezydent Rzeczypospolitej Polskiej zarządza poddanie <em>Konstytucji</em> pod referendum w trybie określonym', 'Przyjęcie w referendum <em>Konstytucji</em> następuje wówczas, gdy opowiedziała się za nią większość biorących']\n",
      "['postępowania w sprawie wykonywania inicjatywy ustawodawczej przez obywateli, o której mowa w art. 118 ust. 2 <em>Konstytucji</em>', 'Projekt ustawy nie może dotyczyć spraw, dla których <em>Konstytucja</em> Rzeczypospolitej Polskiej zastrzega wyłączną', 'Projekt ustawy wniesiony do Marszałka Sejmu powinien odpowiadać wymogom zawartym w <em>Konstytucji</em> i Regulaminie']\n",
      "['Krajowa Rada Sądownictwa, zwana dalej \"Radą\", realizuje cele określone w <em>Konstytucji</em> Rzeczypospolitej', 'szczególności: 1) podejmuje uchwały w sprawach wystąpienia do Trybunału Konstytucyjnego o zbadanie zgodności z <em>Konstytucją</em>']\n",
      "['Rzecznik Praw Dziecka, zwany dalej Rzecznikiem, stoi na straży praw dziecka określonych w <em>Konstytucji</em>', 'uroczyście, że przy wykonywaniu powierzonych mi obowiązków Rzecznika Praw Dziecka dochowam wierności <em>Konstytucji</em>']\n"
     ]
    }
   ],
   "source": [
    "for hit in r.json()['hits']['hits']:\n",
    "    print(hit[\"highlight\"][\"ustawy_mappings\"])"
   ]
  }
 ],
 "metadata": {
  "kernelspec": {
   "display_name": "Python 3.9.10 ('base')",
   "language": "python",
   "name": "python3"
  },
  "language_info": {
   "codemirror_mode": {
    "name": "ipython",
    "version": 3
   },
   "file_extension": ".py",
   "mimetype": "text/x-python",
   "name": "python",
   "nbconvert_exporter": "python",
   "pygments_lexer": "ipython3",
   "version": "3.9.10"
  },
  "orig_nbformat": 4,
  "vscode": {
   "interpreter": {
    "hash": "c6e4e9f98eb68ad3b7c296f83d20e6de614cb42e90992a65aa266555a3137d0d"
   }
  }
 },
 "nbformat": 4,
 "nbformat_minor": 2
}
