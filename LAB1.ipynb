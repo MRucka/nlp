{
 "cells": [
  {
   "cell_type": "code",
   "execution_count": 16,
   "metadata": {},
   "outputs": [],
   "source": [
    "import os\n",
    "import regex as re\n",
    "import pandas as pd\n",
    "import matplotlib.pyplot as plt\n",
    "\n",
    "ustawy = []\n",
    "for filename in os.listdir(\"ustawy/\"):\n",
    "    with open(f\"ustawy/{filename}\") as f:\n",
    "        text = f.read()\n",
    "        ustawy.append(\" \".join(text.replace(\"\\n\", \" \").replace(\"\\t\", \"\").split()))\n"
   ]
  },
  {
   "cell_type": "code",
   "execution_count": 62,
   "metadata": {},
   "outputs": [],
   "source": [
    "def find_year(text: str):\n",
    "    year = re.findall(\"(?<=z dnia [0-9]+ \\w+ )[0-9]+\", text)\n",
    "    return year[0]"
   ]
  },
  {
   "cell_type": "code",
   "execution_count": 717,
   "metadata": {},
   "outputs": [],
   "source": [
    "def find_additions(text: str):\n",
    "    additions = re.findall(\n",
    "        r\"[Dd]oda\\w* (?:się|są|jest|zostają|zostają)+ (?:[Pp]kt|[Pp]kt.|[Aa]rt|[Aa]rt.|[Uu]st|[Uu]st.|§|[Dd]zia[lł])+ [0-9]+[a-z]?+\",\n",
    "        text,\n",
    "    )\n",
    "    return additions\n",
    "\n",
    "\n",
    "def find_removals(text: str):\n",
    "    removals = re.findall(\n",
    "        r\"(?:(?:[Pp]kt|[Pp]kt.|[Aa]rt|[Aa]rt.|[Uu]st|[Uu]st.|§|[Dd]zia[lł]) [0-9]+[a-z]?+)+ skre[śs]\\w+ (?:się|są|jest|zostają|zostaje)*\",\n",
    "        text,\n",
    "    )\n",
    "    return removals\n",
    "\n",
    "\n",
    "def find_changes(text: str):\n",
    "    changes = re.findall(\n",
    "        r\"(?:(?:[Pp]kt|[Pp]kt.|[Aa]rt|[Aa]rt.|[Uu]st|[Uu]st.|§|[Dd]zia[lł]) [0-9]+[a-z]?+)+ otrzym\\w+ brzmienie\",\n",
    "        text,\n",
    "    )\n",
    "    return changes"
   ]
  },
  {
   "cell_type": "code",
   "execution_count": 338,
   "metadata": {},
   "outputs": [],
   "source": [
    "ustawy_lata = {}\n",
    "for ustawa in ustawy:\n",
    "    rok = find_year(ustawa)\n",
    "    if rok in ustawy_lata.keys():\n",
    "        ustawy_lata[rok].append(ustawa)\n",
    "    else:\n",
    "        ustawy_lata[rok] = [ustawa]\n"
   ]
  },
  {
   "cell_type": "code",
   "execution_count": 707,
   "metadata": {},
   "outputs": [],
   "source": [
    "all_data = []\n",
    "for rok, ustawy_list in ustawy_lata.items():\n",
    "    total_ch = 0\n",
    "    total_add = 0\n",
    "    total_rem = 0\n",
    "    for ustawa in ustawy_list:\n",
    "        total_ch += len(find_changes(ustawa))\n",
    "        total_add += len(find_additions(ustawa))\n",
    "        total_rem += len(find_removals(ustawa))\n",
    "    all_data.append([rok, total_add, total_rem, total_ch])\n"
   ]
  },
  {
   "cell_type": "code",
   "execution_count": 708,
   "metadata": {},
   "outputs": [],
   "source": [
    "df = pd.DataFrame(all_data, columns=[\"year\", \"additions\", \"removals\", \"changes\"])"
   ]
  },
  {
   "cell_type": "code",
   "execution_count": 709,
   "metadata": {},
   "outputs": [
    {
     "data": {
      "text/html": [
       "<div>\n",
       "<style scoped>\n",
       "    .dataframe tbody tr th:only-of-type {\n",
       "        vertical-align: middle;\n",
       "    }\n",
       "\n",
       "    .dataframe tbody tr th {\n",
       "        vertical-align: top;\n",
       "    }\n",
       "\n",
       "    .dataframe thead th {\n",
       "        text-align: right;\n",
       "    }\n",
       "</style>\n",
       "<table border=\"1\" class=\"dataframe\">\n",
       "  <thead>\n",
       "    <tr style=\"text-align: right;\">\n",
       "      <th></th>\n",
       "      <th>year</th>\n",
       "      <th>additions</th>\n",
       "      <th>removals</th>\n",
       "      <th>changes</th>\n",
       "    </tr>\n",
       "  </thead>\n",
       "  <tbody>\n",
       "    <tr>\n",
       "      <th>0</th>\n",
       "      <td>2001</td>\n",
       "      <td>1177</td>\n",
       "      <td>284</td>\n",
       "      <td>1385</td>\n",
       "    </tr>\n",
       "    <tr>\n",
       "      <th>1</th>\n",
       "      <td>1996</td>\n",
       "      <td>273</td>\n",
       "      <td>118</td>\n",
       "      <td>456</td>\n",
       "    </tr>\n",
       "    <tr>\n",
       "      <th>2</th>\n",
       "      <td>2003</td>\n",
       "      <td>294</td>\n",
       "      <td>33</td>\n",
       "      <td>641</td>\n",
       "    </tr>\n",
       "    <tr>\n",
       "      <th>3</th>\n",
       "      <td>1997</td>\n",
       "      <td>423</td>\n",
       "      <td>128</td>\n",
       "      <td>660</td>\n",
       "    </tr>\n",
       "    <tr>\n",
       "      <th>4</th>\n",
       "      <td>2000</td>\n",
       "      <td>920</td>\n",
       "      <td>327</td>\n",
       "      <td>1382</td>\n",
       "    </tr>\n",
       "  </tbody>\n",
       "</table>\n",
       "</div>"
      ],
      "text/plain": [
       "   year  additions  removals  changes\n",
       "0  2001       1177       284     1385\n",
       "1  1996        273       118      456\n",
       "2  2003        294        33      641\n",
       "3  1997        423       128      660\n",
       "4  2000        920       327     1382"
      ]
     },
     "execution_count": 709,
     "metadata": {},
     "output_type": "execute_result"
    }
   ],
   "source": [
    "df.head()\n"
   ]
  },
  {
   "cell_type": "code",
   "execution_count": 710,
   "metadata": {},
   "outputs": [],
   "source": [
    "df[\"total\"] = df[\"additions\"] + df[\"changes\"] + df[\"removals\"]"
   ]
  },
  {
   "cell_type": "code",
   "execution_count": 711,
   "metadata": {},
   "outputs": [
    {
     "data": {
      "text/html": [
       "<div>\n",
       "<style scoped>\n",
       "    .dataframe tbody tr th:only-of-type {\n",
       "        vertical-align: middle;\n",
       "    }\n",
       "\n",
       "    .dataframe tbody tr th {\n",
       "        vertical-align: top;\n",
       "    }\n",
       "\n",
       "    .dataframe thead th {\n",
       "        text-align: right;\n",
       "    }\n",
       "</style>\n",
       "<table border=\"1\" class=\"dataframe\">\n",
       "  <thead>\n",
       "    <tr style=\"text-align: right;\">\n",
       "      <th></th>\n",
       "      <th>year</th>\n",
       "      <th>additions</th>\n",
       "      <th>removals</th>\n",
       "      <th>changes</th>\n",
       "      <th>total</th>\n",
       "    </tr>\n",
       "  </thead>\n",
       "  <tbody>\n",
       "    <tr>\n",
       "      <th>0</th>\n",
       "      <td>2001</td>\n",
       "      <td>1177</td>\n",
       "      <td>284</td>\n",
       "      <td>1385</td>\n",
       "      <td>2846</td>\n",
       "    </tr>\n",
       "    <tr>\n",
       "      <th>1</th>\n",
       "      <td>1996</td>\n",
       "      <td>273</td>\n",
       "      <td>118</td>\n",
       "      <td>456</td>\n",
       "      <td>847</td>\n",
       "    </tr>\n",
       "    <tr>\n",
       "      <th>2</th>\n",
       "      <td>2003</td>\n",
       "      <td>294</td>\n",
       "      <td>33</td>\n",
       "      <td>641</td>\n",
       "      <td>968</td>\n",
       "    </tr>\n",
       "    <tr>\n",
       "      <th>3</th>\n",
       "      <td>1997</td>\n",
       "      <td>423</td>\n",
       "      <td>128</td>\n",
       "      <td>660</td>\n",
       "      <td>1211</td>\n",
       "    </tr>\n",
       "    <tr>\n",
       "      <th>4</th>\n",
       "      <td>2000</td>\n",
       "      <td>920</td>\n",
       "      <td>327</td>\n",
       "      <td>1382</td>\n",
       "      <td>2629</td>\n",
       "    </tr>\n",
       "  </tbody>\n",
       "</table>\n",
       "</div>"
      ],
      "text/plain": [
       "   year  additions  removals  changes  total\n",
       "0  2001       1177       284     1385   2846\n",
       "1  1996        273       118      456    847\n",
       "2  2003        294        33      641    968\n",
       "3  1997        423       128      660   1211\n",
       "4  2000        920       327     1382   2629"
      ]
     },
     "execution_count": 711,
     "metadata": {},
     "output_type": "execute_result"
    }
   ],
   "source": [
    "df.head()\n"
   ]
  },
  {
   "cell_type": "code",
   "execution_count": 712,
   "metadata": {},
   "outputs": [],
   "source": [
    "df[\"additions%\"] = df[\"additions\"] / df[\"total\"]\n",
    "df[\"changes%\"] = df[\"changes\"] / df[\"total\"]\n",
    "df[\"removals%\"] = df[\"removals\"] / df[\"total\"]"
   ]
  },
  {
   "cell_type": "code",
   "execution_count": 713,
   "metadata": {},
   "outputs": [
    {
     "data": {
      "text/html": [
       "<div>\n",
       "<style scoped>\n",
       "    .dataframe tbody tr th:only-of-type {\n",
       "        vertical-align: middle;\n",
       "    }\n",
       "\n",
       "    .dataframe tbody tr th {\n",
       "        vertical-align: top;\n",
       "    }\n",
       "\n",
       "    .dataframe thead th {\n",
       "        text-align: right;\n",
       "    }\n",
       "</style>\n",
       "<table border=\"1\" class=\"dataframe\">\n",
       "  <thead>\n",
       "    <tr style=\"text-align: right;\">\n",
       "      <th></th>\n",
       "      <th>year</th>\n",
       "      <th>additions</th>\n",
       "      <th>removals</th>\n",
       "      <th>changes</th>\n",
       "      <th>total</th>\n",
       "      <th>additions%</th>\n",
       "      <th>changes%</th>\n",
       "      <th>removals%</th>\n",
       "    </tr>\n",
       "  </thead>\n",
       "  <tbody>\n",
       "    <tr>\n",
       "      <th>0</th>\n",
       "      <td>2001</td>\n",
       "      <td>1177</td>\n",
       "      <td>284</td>\n",
       "      <td>1385</td>\n",
       "      <td>2846</td>\n",
       "      <td>0.413563</td>\n",
       "      <td>0.486648</td>\n",
       "      <td>0.099789</td>\n",
       "    </tr>\n",
       "    <tr>\n",
       "      <th>1</th>\n",
       "      <td>1996</td>\n",
       "      <td>273</td>\n",
       "      <td>118</td>\n",
       "      <td>456</td>\n",
       "      <td>847</td>\n",
       "      <td>0.322314</td>\n",
       "      <td>0.538371</td>\n",
       "      <td>0.139315</td>\n",
       "    </tr>\n",
       "    <tr>\n",
       "      <th>2</th>\n",
       "      <td>2003</td>\n",
       "      <td>294</td>\n",
       "      <td>33</td>\n",
       "      <td>641</td>\n",
       "      <td>968</td>\n",
       "      <td>0.303719</td>\n",
       "      <td>0.662190</td>\n",
       "      <td>0.034091</td>\n",
       "    </tr>\n",
       "    <tr>\n",
       "      <th>3</th>\n",
       "      <td>1997</td>\n",
       "      <td>423</td>\n",
       "      <td>128</td>\n",
       "      <td>660</td>\n",
       "      <td>1211</td>\n",
       "      <td>0.349298</td>\n",
       "      <td>0.545004</td>\n",
       "      <td>0.105698</td>\n",
       "    </tr>\n",
       "    <tr>\n",
       "      <th>4</th>\n",
       "      <td>2000</td>\n",
       "      <td>920</td>\n",
       "      <td>327</td>\n",
       "      <td>1382</td>\n",
       "      <td>2629</td>\n",
       "      <td>0.349943</td>\n",
       "      <td>0.525675</td>\n",
       "      <td>0.124382</td>\n",
       "    </tr>\n",
       "  </tbody>\n",
       "</table>\n",
       "</div>"
      ],
      "text/plain": [
       "   year  additions  removals  changes  total  additions%  changes%  removals%\n",
       "0  2001       1177       284     1385   2846    0.413563  0.486648   0.099789\n",
       "1  1996        273       118      456    847    0.322314  0.538371   0.139315\n",
       "2  2003        294        33      641    968    0.303719  0.662190   0.034091\n",
       "3  1997        423       128      660   1211    0.349298  0.545004   0.105698\n",
       "4  2000        920       327     1382   2629    0.349943  0.525675   0.124382"
      ]
     },
     "execution_count": 713,
     "metadata": {},
     "output_type": "execute_result"
    }
   ],
   "source": [
    "df.head()\n"
   ]
  },
  {
   "cell_type": "code",
   "execution_count": 714,
   "metadata": {},
   "outputs": [
    {
     "data": {
      "image/png": "[encoded data removed]",
      "text/plain": [
       "<Figure size 720x720 with 1 Axes>"
      ]
     },
     "metadata": {
      "needs_background": "light"
     },
     "output_type": "display_data"
    }
   ],
   "source": [
    "plt.rcParams[\"figure.figsize\"] = (10,10)\n",
    "df[[\"additions%\", \"changes%\", \"removals%\", \"year\"]].set_index(\"year\").sort_values(\n",
    "    \"year\"\n",
    ").plot(kind=\"bar\", stacked=True, color=[\"red\", \"skyblue\", \"green\"])\n",
    "plt.show()"
   ]
  },
  {
   "cell_type": "code",
   "execution_count": 692,
   "metadata": {},
   "outputs": [
    {
     "data": {
      "text/html": [
       "<div>\n",
       "<style scoped>\n",
       "    .dataframe tbody tr th:only-of-type {\n",
       "        vertical-align: middle;\n",
       "    }\n",
       "\n",
       "    .dataframe tbody tr th {\n",
       "        vertical-align: top;\n",
       "    }\n",
       "\n",
       "    .dataframe thead th {\n",
       "        text-align: right;\n",
       "    }\n",
       "</style>\n",
       "<table border=\"1\" class=\"dataframe\">\n",
       "  <thead>\n",
       "    <tr style=\"text-align: right;\">\n",
       "      <th></th>\n",
       "      <th>year</th>\n",
       "      <th>additions</th>\n",
       "      <th>removals</th>\n",
       "      <th>changes</th>\n",
       "      <th>total</th>\n",
       "      <th>additions%</th>\n",
       "      <th>changes%</th>\n",
       "      <th>removals%</th>\n",
       "    </tr>\n",
       "  </thead>\n",
       "  <tbody>\n",
       "    <tr>\n",
       "      <th>0</th>\n",
       "      <td>2001</td>\n",
       "      <td>690</td>\n",
       "      <td>282</td>\n",
       "      <td>1380</td>\n",
       "      <td>2352</td>\n",
       "      <td>0.293367</td>\n",
       "      <td>0.586735</td>\n",
       "      <td>0.119898</td>\n",
       "    </tr>\n",
       "    <tr>\n",
       "      <th>1</th>\n",
       "      <td>1996</td>\n",
       "      <td>120</td>\n",
       "      <td>118</td>\n",
       "      <td>456</td>\n",
       "      <td>694</td>\n",
       "      <td>0.172911</td>\n",
       "      <td>0.657061</td>\n",
       "      <td>0.170029</td>\n",
       "    </tr>\n",
       "    <tr>\n",
       "      <th>2</th>\n",
       "      <td>2003</td>\n",
       "      <td>169</td>\n",
       "      <td>33</td>\n",
       "      <td>639</td>\n",
       "      <td>841</td>\n",
       "      <td>0.200951</td>\n",
       "      <td>0.759810</td>\n",
       "      <td>0.039239</td>\n",
       "    </tr>\n",
       "    <tr>\n",
       "      <th>3</th>\n",
       "      <td>1997</td>\n",
       "      <td>230</td>\n",
       "      <td>128</td>\n",
       "      <td>660</td>\n",
       "      <td>1018</td>\n",
       "      <td>0.225933</td>\n",
       "      <td>0.648330</td>\n",
       "      <td>0.125737</td>\n",
       "    </tr>\n",
       "    <tr>\n",
       "      <th>4</th>\n",
       "      <td>2000</td>\n",
       "      <td>502</td>\n",
       "      <td>327</td>\n",
       "      <td>1379</td>\n",
       "      <td>2208</td>\n",
       "      <td>0.227355</td>\n",
       "      <td>0.624547</td>\n",
       "      <td>0.148098</td>\n",
       "    </tr>\n",
       "  </tbody>\n",
       "</table>\n",
       "</div>"
      ],
      "text/plain": [
       "   year  additions  removals  changes  total  additions%  changes%  removals%\n",
       "0  2001        690       282     1380   2352    0.293367  0.586735   0.119898\n",
       "1  1996        120       118      456    694    0.172911  0.657061   0.170029\n",
       "2  2003        169        33      639    841    0.200951  0.759810   0.039239\n",
       "3  1997        230       128      660   1018    0.225933  0.648330   0.125737\n",
       "4  2000        502       327     1379   2208    0.227355  0.624547   0.148098"
      ]
     },
     "execution_count": 692,
     "metadata": {},
     "output_type": "execute_result"
    }
   ],
   "source": [
    "df.head()"
   ]
  },
  {
   "cell_type": "code",
   "execution_count": 660,
   "metadata": {},
   "outputs": [],
   "source": [
    "odmiana_list = [\n",
    "    \"ustawa\",\n",
    "    \"ustawy\",\n",
    "    \"ustawy\",\n",
    "    \"ustaw\",\n",
    "    \"ustawie\",\n",
    "    \"ustawom\",\n",
    "    \"ustawę\",\n",
    "    \"ustawy\",\n",
    "    \"ustawą\",\n",
    "    \"ustawami\",\n",
    "    \"ustawie\",\n",
    "    \"ustawach\",\n",
    "    \"ustawo\",\n",
    "    \"ustawy\"\n",
    "]"
   ]
  },
  {
   "cell_type": "code",
   "execution_count": 661,
   "metadata": {},
   "outputs": [],
   "source": [
    "odmiana_list = [rf\"\\b{x}\\b\" for x in odmiana_list]"
   ]
  },
  {
   "cell_type": "code",
   "execution_count": 662,
   "metadata": {},
   "outputs": [
    {
     "data": {
      "text/plain": [
       "['\\\\bustawa\\\\b',\n",
       " '\\\\bustawy\\\\b',\n",
       " '\\\\bustawy\\\\b',\n",
       " '\\\\bustaw\\\\b',\n",
       " '\\\\bustawie\\\\b',\n",
       " '\\\\bustawom\\\\b',\n",
       " '\\\\bustawę\\\\b',\n",
       " '\\\\bustawy\\\\b',\n",
       " '\\\\bustawą\\\\b',\n",
       " '\\\\bustawami\\\\b',\n",
       " '\\\\bustawie\\\\b',\n",
       " '\\\\bustawach\\\\b',\n",
       " '\\\\bustawo\\\\b',\n",
       " '\\\\bustawy\\\\b']"
      ]
     },
     "execution_count": 662,
     "metadata": {},
     "output_type": "execute_result"
    }
   ],
   "source": [
    "odmiana_list"
   ]
  },
  {
   "cell_type": "code",
   "execution_count": 664,
   "metadata": {},
   "outputs": [],
   "source": [
    "def find_ustawa(text:str):\n",
    "    ustawa = re.findall(rf\"\\b({'|'.join(odmiana_list)}\\b)\", text, re.IGNORECASE)\n",
    "    return ustawa\n",
    "\n",
    "def find_zdnia(text:str):\n",
    "    find = re.findall(rf\"(\\b(?:{'|'.join(odmiana_list)}\\b)(?= \\bz dnia\\b))\", text, re.IGNORECASE)\n",
    "    return find\n",
    "\n",
    "def find_ustawa_not_zdnia(text:str):\n",
    "    find = re.findall(rf\"(\\b(?:{'|'.join(odmiana_list)}\\b)(?! \\bz dnia\\b))\", text, re.IGNORECASE)\n",
    "    return find "
   ]
  },
  {
   "cell_type": "code",
   "execution_count": 670,
   "metadata": {},
   "outputs": [],
   "source": [
    "total_ustawa_zdania = []\n",
    "for rok, ustawy_list in ustawy_lata.items():\n",
    "    for ustawa in ustawy_list:\n",
    "        if len(find_ustawa(ustawa)) != 0:\n",
    "            total_ustawa_zdania.append([len(find_ustawa(ustawa)), len(find_zdnia(ustawa)), len(find_ustawa_not_zdnia(ustawa))])\n"
   ]
  },
  {
   "cell_type": "code",
   "execution_count": 671,
   "metadata": {},
   "outputs": [],
   "source": [
    "df_total_ustawa_zdnia = pd.DataFrame(total_ustawa_zdania, columns = ['ustawa', 'ustawa_z_dnia', 'ustawa_not_z_dnia'])"
   ]
  },
  {
   "cell_type": "code",
   "execution_count": 672,
   "metadata": {},
   "outputs": [
    {
     "data": {
      "text/html": [
       "<div>\n",
       "<style scoped>\n",
       "    .dataframe tbody tr th:only-of-type {\n",
       "        vertical-align: middle;\n",
       "    }\n",
       "\n",
       "    .dataframe tbody tr th {\n",
       "        vertical-align: top;\n",
       "    }\n",
       "\n",
       "    .dataframe thead th {\n",
       "        text-align: right;\n",
       "    }\n",
       "</style>\n",
       "<table border=\"1\" class=\"dataframe\">\n",
       "  <thead>\n",
       "    <tr style=\"text-align: right;\">\n",
       "      <th></th>\n",
       "      <th>ustawa</th>\n",
       "      <th>ustawa_z_dnia</th>\n",
       "      <th>ustawa_not_z_dnia</th>\n",
       "    </tr>\n",
       "  </thead>\n",
       "  <tbody>\n",
       "    <tr>\n",
       "      <th>0</th>\n",
       "      <td>4</td>\n",
       "      <td>2</td>\n",
       "      <td>2</td>\n",
       "    </tr>\n",
       "    <tr>\n",
       "      <th>1</th>\n",
       "      <td>33</td>\n",
       "      <td>16</td>\n",
       "      <td>17</td>\n",
       "    </tr>\n",
       "    <tr>\n",
       "      <th>2</th>\n",
       "      <td>13</td>\n",
       "      <td>3</td>\n",
       "      <td>10</td>\n",
       "    </tr>\n",
       "    <tr>\n",
       "      <th>3</th>\n",
       "      <td>9</td>\n",
       "      <td>3</td>\n",
       "      <td>6</td>\n",
       "    </tr>\n",
       "    <tr>\n",
       "      <th>4</th>\n",
       "      <td>27</td>\n",
       "      <td>5</td>\n",
       "      <td>22</td>\n",
       "    </tr>\n",
       "  </tbody>\n",
       "</table>\n",
       "</div>"
      ],
      "text/plain": [
       "   ustawa  ustawa_z_dnia  ustawa_not_z_dnia\n",
       "0       4              2                  2\n",
       "1      33             16                 17\n",
       "2      13              3                 10\n",
       "3       9              3                  6\n",
       "4      27              5                 22"
      ]
     },
     "execution_count": 672,
     "metadata": {},
     "output_type": "execute_result"
    }
   ],
   "source": [
    "df_total_ustawa_zdnia.head()"
   ]
  },
  {
   "cell_type": "code",
   "execution_count": 675,
   "metadata": {},
   "outputs": [
    {
     "name": "stdout",
     "output_type": "stream",
     "text": [
      "True\n"
     ]
    }
   ],
   "source": [
    "print((df_total_ustawa_zdnia['ustawa'] - df_total_ustawa_zdnia['ustawa_z_dnia'] - df_total_ustawa_zdnia[\"ustawa_not_z_dnia\"] == 0).all())"
   ]
  },
  {
   "cell_type": "code",
   "execution_count": 683,
   "metadata": {},
   "outputs": [],
   "source": [
    "sum_df = df_total_ustawa_zdnia.sum()"
   ]
  },
  {
   "cell_type": "code",
   "execution_count": 682,
   "metadata": {},
   "outputs": [
    {
     "data": {
      "text/html": [
       "<div>\n",
       "<style scoped>\n",
       "    .dataframe tbody tr th:only-of-type {\n",
       "        vertical-align: middle;\n",
       "    }\n",
       "\n",
       "    .dataframe tbody tr th {\n",
       "        vertical-align: top;\n",
       "    }\n",
       "\n",
       "    .dataframe thead th {\n",
       "        text-align: right;\n",
       "    }\n",
       "</style>\n",
       "<table border=\"1\" class=\"dataframe\">\n",
       "  <thead>\n",
       "    <tr style=\"text-align: right;\">\n",
       "      <th></th>\n",
       "      <th>index</th>\n",
       "      <th>0</th>\n",
       "    </tr>\n",
       "  </thead>\n",
       "  <tbody>\n",
       "    <tr>\n",
       "      <th>0</th>\n",
       "      <td>ustawa</td>\n",
       "      <td>24934</td>\n",
       "    </tr>\n",
       "    <tr>\n",
       "      <th>1</th>\n",
       "      <td>ustawa_z_dnia</td>\n",
       "      <td>8587</td>\n",
       "    </tr>\n",
       "    <tr>\n",
       "      <th>2</th>\n",
       "      <td>ustawa_not_z_dnia</td>\n",
       "      <td>16347</td>\n",
       "    </tr>\n",
       "  </tbody>\n",
       "</table>\n",
       "</div>"
      ],
      "text/plain": [
       "               index      0\n",
       "0             ustawa  24934\n",
       "1      ustawa_z_dnia   8587\n",
       "2  ustawa_not_z_dnia  16347"
      ]
     },
     "execution_count": 682,
     "metadata": {},
     "output_type": "execute_result"
    }
   ],
   "source": [
    "sum_df.head()"
   ]
  },
  {
   "cell_type": "code",
   "execution_count": 689,
   "metadata": {},
   "outputs": [
    {
     "data": {
      "image/png": "[encoded data removed]",
      "text/plain": [
       "<Figure size 720x720 with 1 Axes>"
      ]
     },
     "metadata": {
      "needs_background": "light"
     },
     "output_type": "display_data"
    }
   ],
   "source": [
    "plt.rcParams[\"figure.figsize\"] = (10,10)\n",
    "sum_df.plot(kind=\"bar\", color=[\"red\", \"skyblue\", \"green\"])\n",
    "plt.ylabel('Total count')\n",
    "plt.show()"
   ]
  },
  {
   "cell_type": "code",
   "execution_count": 723,
   "metadata": {},
   "outputs": [],
   "source": [
    "def find_ustawa_not_o_zmianie(text:str):\n",
    "    ustawa = re.findall(rf\"(?! \\bo zmianie\\b) \\b({'|'.join(odmiana_list)}\\b)\", text, re.IGNORECASE)\n",
    "    return ustawa"
   ]
  },
  {
   "cell_type": "code",
   "execution_count": 727,
   "metadata": {},
   "outputs": [],
   "source": [
    "total_ustawa= 0\n",
    "for rok, ustawy_list in ustawy_lata.items():\n",
    "    for ustawa in ustawy_list:\n",
    "        if len(find_ustawa_not_o_zmianie(ustawa)) != 0:\n",
    "            total_ustawa = total_ustawa + len(find_ustawa_not_o_zmianie(ustawa))\n"
   ]
  },
  {
   "cell_type": "code",
   "execution_count": 728,
   "metadata": {},
   "outputs": [
    {
     "data": {
      "text/plain": [
       "24843"
      ]
     },
     "execution_count": 728,
     "metadata": {},
     "output_type": "execute_result"
    }
   ],
   "source": [
    "total_ustawa"
   ]
  },
  {
   "cell_type": "code",
   "execution_count": null,
   "metadata": {},
   "outputs": [],
   "source": []
  }
 ],
 "metadata": {
  "kernelspec": {
   "display_name": "Python 3.9.12 ('wizualizacje')",
   "language": "python",
   "name": "python3"
  },
  "language_info": {
   "codemirror_mode": {
    "name": "ipython",
    "version": 3
   },
   "file_extension": ".py",
   "mimetype": "text/x-python",
   "name": "python",
   "nbconvert_exporter": "python",
   "pygments_lexer": "ipython3",
   "version": "3.9.12"
  },
  "orig_nbformat": 4,
  "vscode": {
   "interpreter": {
    "hash": "832e5a4dd08240f61101513aa1fa1ce7c7df1c25bf34e79c5c4c26f5ef395315"
   }
  }
 },
 "nbformat": 4,
 "nbformat_minor": 2
}
